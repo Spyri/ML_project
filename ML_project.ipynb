{
 "cells": [
  {
   "cell_type": "markdown",
   "metadata": {},
   "source": [
    "# Music Genre Classification using multiple classifiers\n",
    "Team Members: Lisa Korntheuer, Jan Birkert, Adrian Desiderato, Jan Wangerin, Spyridon Spyropoulos"
   ]
  },
  {
   "cell_type": "markdown",
   "metadata": {},
   "source": [
    "Imagine not knowing what genre you like. This notebook can help you find out what genre your song is! Never lose a genre-pub-quiz!\n"
   ]
  },
  {
   "cell_type": "markdown",
   "metadata": {},
   "source": [
    "## Imports"
   ]
  },
  {
   "cell_type": "code",
   "execution_count": 41,
   "metadata": {},
   "outputs": [],
   "source": [
    "import numpy as np\n",
    "import matplotlib.pyplot as plt\n",
    "%matplotlib inline\n",
    "import pandas as pd\n",
    "\n",
    "from sklearn.model_selection import train_test_split\n",
    "from sklearn.metrics import accuracy_score, f1_score, mean_squared_error\n",
    "from sklearn.model_selection import GridSearchCV, RandomizedSearchCV\n",
    "from sklearn.preprocessing import MinMaxScaler, LabelEncoder, StandardScaler\n",
    "import seaborn as sns\n",
    "from sklearn.decomposition import PCA\n",
    "from sklearn.neighbors import KNeighborsClassifier\n",
    "\n",
    "from sklearn.neural_network import MLPClassifier\n",
    "from scipy.stats import uniform, randint\n",
    "import datetime as dt"
   ]
  },
  {
   "cell_type": "markdown",
   "metadata": {},
   "source": [
    "# 0. Data understanding\n",
    "Data describe (Features, Target etc.)\n",
    "- filename and length irrelevant for ML\n",
    "- 57 features -> PCA?\n",
    "- only numerical data except for class labels (\"label\")"
   ]
  },
  {
   "cell_type": "code",
   "execution_count": null,
   "metadata": {},
   "outputs": [],
   "source": [
    "df = pd.read_csv('./data/features_30_sec.csv')\n",
    "df.info()"
   ]
  },
  {
   "cell_type": "code",
   "execution_count": null,
   "metadata": {},
   "outputs": [],
   "source": [
    "df.head()"
   ]
  },
  {
   "cell_type": "markdown",
   "metadata": {},
   "source": [
    "Correlations between features:"
   ]
  },
  {
   "cell_type": "code",
   "execution_count": null,
   "metadata": {},
   "outputs": [],
   "source": [
    "cor = df.iloc[:, 2:-2].corr()\n",
    "fig, ax = plt.subplots(figsize=(12,12))\n",
    "ax = sns.heatmap(cor, square = True, xticklabels=True, yticklabels=True) \n",
    "plt.show()"
   ]
  },
  {
   "cell_type": "markdown",
   "metadata": {},
   "source": [
    "Since there are quite a few feature combinations with high correlations, PCA may be worth a try. (See Data Prep)"
   ]
  },
  {
   "cell_type": "markdown",
   "metadata": {},
   "source": [
    "## 1. Data preparation\n",
    "Jan W.\n",
    "\n",
    "Data splitting\n",
    "\n",
    "y = LabelEncoder() \n",
    "\n",
    "MinMax()\n",
    "Das andere() \n"
   ]
  },
  {
   "cell_type": "code",
   "execution_count": 45,
   "metadata": {},
   "outputs": [],
   "source": [
    "random_state = 0\n",
    "LabelEnc = LabelEncoder()\n",
    "y = df['label']\n",
    "y = pd.DataFrame(LabelEnc.fit_transform(y))\n",
    "df['label_enc'] = y"
   ]
  },
  {
   "cell_type": "code",
   "execution_count": null,
   "metadata": {},
   "outputs": [],
   "source": [
    "scaler_mms = MinMaxScaler()\n",
    "\n",
    "X = df.loc[:, 'chroma_stft_mean' : 'mfcc20_var']\n",
    "X_scaled_array_mms = scaler_mms.fit_transform(X)\n",
    "\n",
    "X_scaled_mms = pd.DataFrame(X_scaled_array_mms, columns=X.columns)\n",
    "\n",
    "print(X)\n",
    "print(X_scaled_mms)\n"
   ]
  },
  {
   "cell_type": "markdown",
   "metadata": {},
   "source": [
    "PCA: (copied from Material Notebook 04, probably has to be adjusted later on)"
   ]
  },
  {
   "cell_type": "markdown",
   "metadata": {},
   "source": [
    "To fight the curse of dimensionality, some dimensions could be removed, for example the last 12 to even 27 dimensions, since about 94% of \"information\" is contained in the first 30 PCs."
   ]
  },
  {
   "cell_type": "code",
   "execution_count": 52,
   "metadata": {},
   "outputs": [],
   "source": [
    "X_train, X_test, y_train, y_test = train_test_split(X, y, test_size=0.2, random_state=0, stratify=y)\n",
    "X_train_mms, X_test_mms, y_train_mms, y_test_mms = train_test_split(X_scaled_mms, y, test_size=0.2, random_state=0, stratify=y)"
   ]
  },
  {
   "cell_type": "markdown",
   "metadata": {},
   "source": [
    "## 2. Model training \n",
    "\n",
    "Each Modell is trained and the quality of the classifier(accuracy) is displayed. "
   ]
  },
  {
   "cell_type": "markdown",
   "metadata": {},
   "source": [
    "### 2.1 Random Forests\n",
    "Author: Spyridon S. \n",
    "\n",
    "In this section Random Forest as a classifier will be tested. In the first step all important libraries will be imported."
   ]
  },
  {
   "cell_type": "code",
   "execution_count": 173,
   "metadata": {},
   "outputs": [],
   "source": [
    "from sklearn.ensemble import RandomForestClassifier\n",
    "import sklearn.tree as tree"
   ]
  },
  {
   "cell_type": "markdown",
   "metadata": {},
   "source": [
    "When training random forests, there is no heavy hyperparameter needed to get a good accuracy. The structure of the model is already decreasing Bias and Variance by injecting randomness on constructing the trees. By Random Feature selection and Bagging the Risk of Overfitting is minimized, and by slightly tuning the hyperparameters, the Underfitting risk is also minimized. Nevertheless, we will perform a soft hyperparameter tuning, as well as a heavy hyperparameter tuning. The aim is to see if it makes sense to preform a heavy hyperparameter tuning."
   ]
  },
  {
   "cell_type": "markdown",
   "metadata": {},
   "source": [
    "#### 2.1.1 Simple Hyperparameter tuning \n",
    "It is enough only to tune the numbers of trees in the ensemble \"n_estimators\" and the splitting criterion. All other hyperparameters will use the default values. "
   ]
  },
  {
   "cell_type": "code",
   "execution_count": 175,
   "metadata": {},
   "outputs": [
    {
     "name": "stdout",
     "output_type": "stream",
     "text": [
      "Fitting 2 folds for each of 18 candidates, totalling 36 fits\n",
      "Training for MinMaxScaler data took 0:00:18.773309\n"
     ]
    }
   ],
   "source": [
    "\n",
    "rf = RandomForestClassifier(random_state=random_state, n_jobs=-1)\n",
    "param_grid = {'n_estimators': np.array([ 100, 250, 500, 1000, 2000, 7000]), \n",
    "              'criterion':['gini','entropy', 'log_loss'],\n",
    "              }\n",
    "grid_search_rf_simple = GridSearchCV(rf, param_grid, n_jobs=-1, cv=2, scoring='accuracy', verbose=1, refit=True)\n",
    "start = dt.datetime.now()\n",
    "grid_search_rf_simple.fit(X_train_mms, y_train_mms.values.ravel()) # MinMaxScaler is not really needed for Random Forest, but we are using it to be consistent with other models\n",
    "end = dt.datetime.now()\n",
    "print(f\"Training for MinMaxScaler data took {end - start}\")\n",
    "y_pred_rf_simple = grid_search_rf_simple.predict(X_test_mms)\n"
   ]
  },
  {
   "cell_type": "markdown",
   "metadata": {},
   "source": [
    "The GridSearch found out the best model, the results: "
   ]
  },
  {
   "cell_type": "code",
   "execution_count": null,
   "metadata": {},
   "outputs": [],
   "source": [
    "grid_search_rf_simple.score(X_test_mms, y_test_mms)\n",
    "print(\"Best Score: %f\" % grid_search_rf_simple.best_score_)\n",
    "print(\"Optimal Hyperparameter Values: \", grid_search_rf_simple.best_params_)\n",
    "print(\"Optimal Model: \", grid_search_rf_simple.best_estimator_)\n",
    "accuracy_rf_simple = accuracy_score(y_test_mms, y_pred_rf_simple)\n",
    "print(f\"Accuracy: {accuracy_rf_simple}\")"
   ]
  },
  {
   "cell_type": "markdown",
   "metadata": {},
   "source": [
    "So in ~20 seconds (on my machine), Gridsearch found a model with 76% accuracy. That's a really good result! "
   ]
  },
  {
   "cell_type": "markdown",
   "metadata": {},
   "source": [
    "#### 2.1.2 Heavy Hyperparameter tuning"
   ]
  },
  {
   "cell_type": "markdown",
   "metadata": {},
   "source": [
    "But let's also try some heavy hyperparameter tuning to see what results can be achieved: (This takes some time.... ~20min.) "
   ]
  },
  {
   "cell_type": "code",
   "execution_count": null,
   "metadata": {},
   "outputs": [],
   "source": [
    "\n",
    "rf_heavy = RandomForestClassifier(random_state=random_state, n_jobs=-1)\n",
    "param_grid_rf_heavy = {'n_estimators': np.array([ 100, 250, 500, 1000, 2000, 7000]), \n",
    "              'criterion':['gini','entropy', 'log_loss'],\n",
    "              'max_depth': np.array([3,5, 7,10, None]),\n",
    "                'min_samples_split': np.array([2, 5, 10]),\n",
    "                'min_samples_leaf': np.array([1, 2, 4]),\n",
    "                'max_features': np.array(['sqrt', 'log2'])\n",
    "              }\n",
    "grid_search_rf_heavy = GridSearchCV(rf_heavy, param_grid_rf_heavy, n_jobs=-1, cv=2, scoring='accuracy', verbose=1, refit=True)\n",
    "start = dt.datetime.now()\n",
    "grid_search_rf_heavy.fit(X_train_mms, y_train_mms.values.ravel())\n",
    "end = dt.datetime.now()\n",
    "print(f\"Training for MinMaxScaler data took {end - start}\")\n",
    "y_pred_heavy = grid_search_rf_heavy.predict(X_test_mms)"
   ]
  },
  {
   "cell_type": "markdown",
   "metadata": {},
   "source": [
    "Now that needed a lot of time. It took nearly 20 minutes to get the results. Hopefully the created model is better:"
   ]
  },
  {
   "cell_type": "code",
   "execution_count": null,
   "metadata": {},
   "outputs": [],
   "source": [
    "grid_search_rf_heavy.score(X_test, y_test)\n",
    "print(\"Best Score: %f\" % grid_search_rf_heavy.best_score_)\n",
    "print(\"Optimal Hyperparameter Values: \", grid_search_rf_heavy.best_params_)\n",
    "print(\"Optimal Model: \", grid_search_rf_heavy.best_estimator_)\n",
    "print(f\"Accuracy: {accuracy_score(y_test, y_pred_heavy)}\")"
   ]
  },
  {
   "cell_type": "markdown",
   "metadata": {},
   "source": [
    "It is not... The score is greater, but the accuracy is worse."
   ]
  },
  {
   "cell_type": "markdown",
   "metadata": {},
   "source": [
    "#### 2.1.3 Best Random Forest"
   ]
  },
  {
   "cell_type": "markdown",
   "metadata": {},
   "source": [
    "We see that with heavy hyperparameter tuning, that needed more than 15 minutes, the resulting forest is not really giving much more performance. There might be a better slightly better score of the found model, but the resulting accuracy of the model is worse. So our best Random Forest model is the following:"
   ]
  },
  {
   "cell_type": "code",
   "execution_count": null,
   "metadata": {},
   "outputs": [],
   "source": [
    "rf_simple_best = grid_search_rf_simple.best_estimator_\n",
    "rf_simple_best "
   ]
  },
  {
   "cell_type": "markdown",
   "metadata": {},
   "source": [
    "In the following the feature importance of the best random forest can be seen:"
   ]
  },
  {
   "cell_type": "code",
   "execution_count": 173,
   "metadata": {},
   "outputs": [
    {
     "name": "stdout",
     "output_type": "stream",
     "text": [
      "Feature ranking with names:\n"
     ]
    },
    {
     "data": {
      "image/png": "[encoded data removed]",
      "text/plain": [
       "<Figure size 640x480 with 1 Axes>"
      ]
     },
     "metadata": {},
     "output_type": "display_data"
    }
   ],
   "source": [
    "rf_simple_best = grid_search_rf_simple.best_estimator_\n",
    "\n",
    "importances = rf_simple_best.feature_importances_\n",
    "indices = np.argsort(importances)[::-1]\n",
    "feature_names = X.columns\n",
    "\n",
    "\n",
    "top_n = 15\n",
    "top_indices = indices[:top_n]\n",
    "top_importances = importances[top_indices]\n",
    "\n",
    "top_feature_names = [feature_names[idx] for idx in top_indices]\n",
    "print(\"Feature ranking with names:\")\n",
    "\n",
    "\n",
    "plt.figure()\n",
    "plt.title(f\"Top {top_n} Feature Importances\")\n",
    "plt.bar(range(top_n), top_importances, align=\"center\")\n",
    "plt.xticks(range(top_n), top_feature_names, rotation=45, ha='right')\n",
    "plt.xlabel('Feature Index')\n",
    "plt.ylabel('Feature Importance')\n",
    "plt.xlim([-1, top_n])\n",
    "plt.show()\n"
   ]
  },
  {
   "cell_type": "markdown",
   "metadata": {},
   "source": [
    "### 2.2 Decision trees\n",
    "\n",
    "Author: Jan W.\n",
    "\n",
    "First try using post-pruning and the entire dataset. Post-pruning is done using hyperparameter-tuning with GridsearchCV."
   ]
  },
  {
   "cell_type": "code",
   "execution_count": null,
   "metadata": {},
   "outputs": [],
   "source": [
    "from sklearn.tree import DecisionTreeClassifier, export_text\n",
    "from sklearn import tree\n",
    "\n",
    "clf = DecisionTreeClassifier(random_state=random_state) #maybe use variable for random state so that all classifiers can be adjusted at the same time\n",
    "path = clf.cost_complexity_pruning_path(X_train_mms, y_train_mms)\n",
    "ccp_alphas, impurities = path.ccp_alphas, path.impurities\n",
    "\n",
    "fig, ax = plt.subplots()\n",
    "ax.plot(ccp_alphas[:-1], impurities[:-1], marker=\"o\", drawstyle=\"steps-post\")\n",
    "ax.set_xlabel(\"effective alpha\")\n",
    "ax.set_ylabel(\"total impurity of leaves\")\n",
    "ax.set_title(\"Total Impurity vs effective alpha for training set\")\n",
    "\n",
    "plt.show()"
   ]
  },
  {
   "cell_type": "code",
   "execution_count": null,
   "metadata": {},
   "outputs": [],
   "source": [
    "parameters = {'ccp_alpha':ccp_alphas[:-1].tolist()}\n",
    "gs = GridSearchCV(DecisionTreeClassifier(random_state=random_state), parameters, cv=10, refit=True)\n",
    "gs.fit(X_train_mms,y_train_mms)\n",
    "tree_best = gs.best_estimator_\n",
    "pred = tree_best.predict(X_test_mms)\n",
    "print('Accuracy', accuracy_score(y_test_mms, pred))"
   ]
  },
  {
   "cell_type": "code",
   "execution_count": null,
   "metadata": {
    "scrolled": true
   },
   "outputs": [],
   "source": [
    "rules = export_text(tree_best, feature_names=X.columns)\n",
    "print(rules)\n",
    "print()\n",
    "print(\"Feature importance:\\n\")\n",
    "feature_importance = {}\n",
    "i = 0\n",
    "for col in X.columns:\n",
    "    feature_importance[col] = tree_best.feature_importances_[i]\n",
    "    i += 1\n",
    "features_sorted = sorted(feature_importance.items(), key=lambda x : x[1])\n",
    "features_sorted.reverse()\n",
    "for feature in features_sorted:\n",
    "    print(feature)"
   ]
  },
  {
   "cell_type": "code",
   "execution_count": null,
   "metadata": {},
   "outputs": [],
   "source": [
    "fig = plt.figure(figsize=(10,10))\n",
    "text = tree.plot_tree(tree_best, \n",
    "                   feature_names=X.columns.to_list(), \n",
    "                   filled=True)\n",
    "\n",
    "plt.show()"
   ]
  },
  {
   "cell_type": "markdown",
   "metadata": {},
   "source": [
    "Maybe try pre pruning with lower maximum height of tree, although that probably won't lead to better results. "
   ]
  },
  {
   "cell_type": "code",
   "execution_count": null,
   "metadata": {},
   "outputs": [],
   "source": [
    "cls = DecisionTreeClassifier(random_state=random_state)\n",
    "\n",
    "params = {'max_depth':np.arange(3,15),\n",
    "#          'min_samples_leaf':[3,5,10,15,20],\n",
    "#          'min_samples_split':[8,10,12,18,20,16],\n",
    "          'criterion':['gini','entropy']}\n",
    "gs = GridSearchCV(cls, params, scoring='accuracy', cv=10, verbose=3, n_jobs=-1)\n",
    "gs.fit(X_train_mms, y_train_mms)\n",
    "params_optimal = gs.best_params_\n",
    "\n",
    "print(\"Best Score: %f\" % gs.best_score_)\n",
    "print(\"Optimal Hyperparameter Values: \", params_optimal)"
   ]
  },
  {
   "cell_type": "code",
   "execution_count": null,
   "metadata": {},
   "outputs": [],
   "source": [
    "tree_best = DecisionTreeClassifier(random_state=random_state, criterion='entropy', max_depth=11) #, min_samples_leaf=20, min_samples_split=8)\n",
    "tree_best.fit(X_train_mms, y_train_mms)\n",
    "pred = tree_best.predict(X_test_mms)\n",
    "accuracy_dt = accuracy_score(y_test_mms, pred)\n",
    "print('Test accuracy',accuracy_dt)"
   ]
  },
  {
   "cell_type": "code",
   "execution_count": null,
   "metadata": {},
   "outputs": [],
   "source": [
    "fig = plt.figure(figsize=(10,10))\n",
    "text = tree.plot_tree(tree_best, \n",
    "                   feature_names=X.columns.to_list(), \n",
    "                   filled=True)\n",
    "\n",
    "plt.show()"
   ]
  },
  {
   "cell_type": "markdown",
   "metadata": {},
   "source": [
    "Also try reduction of dimensions with PCA (only first 30 or so dimensions?)"
   ]
  },
  {
   "cell_type": "markdown",
   "metadata": {},
   "source": [
    "### 2.3 KNN\n",
    "\n",
    "Author: Lisa K."
   ]
  },
  {
   "cell_type": "markdown",
   "metadata": {},
   "source": [
    "Now the music genres are classified with the **k-Nearest Neighbors** algorithm. To enhance model performance, it can be useful to tune the following three hyperparameters via cross validation:\n",
    "* ***n_neighbors***  :  number of neighbors $k$\n",
    "* ***weights***  :  weights assigned to the nearest neighbors, especially relevant in case of ties\n",
    "  - 'uniform'  :  all neighbors have equal weights\n",
    "  - 'distance'  :  neighbors closer to the target point have higher weights\n",
    "* ***metric***  :  method for distance computation\n",
    "  - 'euclidean'  :  Euclidean distance\n",
    "  - 'manhatten'  :  Manhatten distance"
   ]
  },
  {
   "cell_type": "markdown",
   "metadata": {},
   "source": [
    "The first step is to define the possible values for each of these parameters in a dictionary."
   ]
  },
  {
   "cell_type": "code",
   "execution_count": 62,
   "metadata": {},
   "outputs": [],
   "source": [
    "# Define parameter combinations for hyperparameter tuning via cross validation \n",
    "params = {'n_neighbors': np.arange(1,20),               # parameter 'k' \n",
    "              'weights': ['uniform', 'distance'],       # parameter 'weights'\n",
    "              'metric' : ['euclidean','manhattan']}     # parameter 'metric'"
   ]
  },
  {
   "cell_type": "markdown",
   "metadata": {},
   "source": [
    "Then hyperparameter tuning is performed with the help of *GridSearchCV*, using 10-fold cross validation and accuracy as evaluation measure. The model is trained on the training data which have been normalized with the *MinMaxScaler*. Since kNN relies on distance measures, feature scaling is a necessary pre-processing step in this case."
   ]
  },
  {
   "cell_type": "code",
   "execution_count": null,
   "metadata": {},
   "outputs": [],
   "source": [
    "\n",
    "# Create KNN classifier\n",
    "knn = KNeighborsClassifier()\n",
    "# Use GridSearchCV to tune the chosen parameters\n",
    "gs = GridSearchCV(knn, params, scoring='accuracy', cv=10, verbose=0, n_jobs=-1, refit=True)\n",
    "# Train\n",
    "gs.fit(X_train_mms, y_train_mms.values.ravel())    # Use training data scaled with MinMaxScaler"
   ]
  },
  {
   "cell_type": "markdown",
   "metadata": {},
   "source": [
    "As can be seen from the optimal parameter set, choosing $k=3$ nearest neighbors, distance-dependent weights and Manhattan distance turns out to be the best combination in this experiment. Yet, it must be noted that distance-related weights are also computed if there are no ties, which might lead to overfitting."
   ]
  },
  {
   "cell_type": "code",
   "execution_count": null,
   "metadata": {},
   "outputs": [],
   "source": [
    "params_optimal = gs.best_params_\n",
    "\n",
    "print(\"Best score: %f\" % gs.best_score_)\n",
    "print(\"Optimal hyperparameters: \", params_optimal)"
   ]
  },
  {
   "cell_type": "markdown",
   "metadata": {},
   "source": [
    "Finally, this optimal classifier is taken to predict the music genres in the corresponding test set."
   ]
  },
  {
   "cell_type": "code",
   "execution_count": 73,
   "metadata": {},
   "outputs": [],
   "source": [
    "# Choose optimal classifier to predict\n",
    "knn_optimal = gs.best_estimator_\n",
    "y_pred_optimal = knn_optimal.predict(X_test_mms)"
   ]
  },
  {
   "cell_type": "markdown",
   "metadata": {},
   "source": [
    "The evaluation shows that the tuned kNN model performs with an accuracy of 74% on these test data. "
   ]
  },
  {
   "cell_type": "code",
   "execution_count": null,
   "metadata": {},
   "outputs": [],
   "source": [
    "# Accuracy for tuned KNN\n",
    "accuracy_knn = accuracy_score(y_test_mms, y_pred_optimal)\n",
    "print('Accuracy:', accuracy_knn)  "
   ]
  },
  {
   "cell_type": "markdown",
   "metadata": {},
   "source": [
    "### 2.4 Neural Networks - ANN"
   ]
  },
  {
   "cell_type": "markdown",
   "metadata": {},
   "source": [
    "Authors: *Adrian Desiderato and Jan Birkert*\n",
    "\n",
    "#### Hyperparameter Tuning and Model Training\n",
    "\n",
    "To get the best possible result for an Artificial Neural Network, we want to tune our hyperparameters (the hidden layer sizes, the batch size, the activation function and the learning rate) beforehand. Since our dataset has only 1000 entries, let's attempt to use an approach similar to the one given in material notebook no. 10."
   ]
  },
  {
   "cell_type": "code",
   "execution_count": 101,
   "metadata": {},
   "outputs": [],
   "source": [
    "params = {\n",
    "    'hidden_layer_sizes': [(randint.rvs(2, 200), randint.rvs(2, 200))],\n",
    "    'activation': ['tanh', 'relu', 'logistic'],\n",
    "    'alpha': [0.0001, 0.001, 0.05],\n",
    "    'learning_rate_init': uniform(0.001, 0.01),\n",
    "    'batch_size': randint(16, 128),\n",
    "    'learning_rate': ['constant', 'adaptive', 'invscaling']\n",
    "}"
   ]
  },
  {
   "cell_type": "markdown",
   "metadata": {},
   "source": [
    "To get the best possible tuning, we will test with a combination of hyperparameters."
   ]
  },
  {
   "cell_type": "code",
   "execution_count": 102,
   "metadata": {},
   "outputs": [],
   "source": [
    "mlp = MLPClassifier(solver='adam',\n",
    "                   max_iter=2000,\n",
    "                   random_state=random_state)\n",
    "\n",
    "clf_mms = RandomizedSearchCV(mlp, params, n_jobs=-1, cv=10)"
   ]
  },
  {
   "cell_type": "markdown",
   "metadata": {},
   "source": [
    "As we prepared the data with the `MinMaxScaler`, let's use them."
   ]
  },
  {
   "cell_type": "code",
   "execution_count": null,
   "metadata": {},
   "outputs": [],
   "source": [
    "start = dt.datetime.now()\n",
    "clf_mms.fit(X_train_mms, y_train_mms.values.ravel())\n",
    "end = dt.datetime.now()\n",
    "print(f\"Training for MinMaxScaler data took {end - start}\")\n",
    "\n",
    "\n",
    "clf_mms"
   ]
  },
  {
   "cell_type": "code",
   "execution_count": null,
   "metadata": {},
   "outputs": [],
   "source": [
    "pred_train_mms = clf_mms.predict(X_train_mms)\n",
    "print('Train accuracy with MinMaxScaler:', accuracy_score(pred_train_mms, y_train_mms))\n",
    "pred_test_mms = clf_mms.predict(X_test_mms)\n",
    "print('Test accuracy with MinMaxScaler:', accuracy_score(pred_test_mms, y_test_mms))"
   ]
  },
  {
   "cell_type": "markdown",
   "metadata": {},
   "source": [
    "After few tests, the best results were reached with: "
   ]
  },
  {
   "cell_type": "code",
   "execution_count": null,
   "metadata": {},
   "outputs": [],
   "source": [
    "ann_best_params = {'activation': 'relu',\n",
    " 'alpha': 0.001,\n",
    " 'batch_size': 63,\n",
    " 'beta_1': 0.9,\n",
    " 'beta_2': 0.999,\n",
    " 'early_stopping': False,\n",
    " 'epsilon': 1e-08,\n",
    " 'hidden_layer_sizes': (70, 170),\n",
    " 'learning_rate': 'invscaling',\n",
    " 'learning_rate_init': 0.0014079058662580348,\n",
    " 'max_fun': 15000,\n",
    " 'max_iter': 2000,\n",
    " 'momentum': 0.9,\n",
    " 'n_iter_no_change': 10,\n",
    " 'nesterovs_momentum': True,\n",
    " 'power_t': 0.5,\n",
    " 'random_state': 0,\n",
    " 'shuffle': True,\n",
    " 'solver': 'adam',\n",
    " 'tol': 0.0001,\n",
    " 'validation_fraction': 0.1,\n",
    " 'verbose': False,\n",
    " 'warm_start': False}\n",
    "\n",
    "ann_best = MLPClassifier(**ann_best_params)\n",
    "ann_best.fit(X_train_mms, y_train_mms.values.ravel())\n",
    "y_pred_ann = ann_best.predict(X_test_mms)\n",
    "accuracy_ann = accuracy_score(y_test_mms, y_pred_ann)\n",
    "print('Accuracy:', accuracy_ann)"
   ]
  },
  {
   "cell_type": "markdown",
   "metadata": {},
   "source": [
    "As we can see, the data scaled with the `MinMaxScaler` yields the best result with a test accuracy of around 75%. Of course, as we used `randint` to randomize our hyperparameters for the number of neurons of the two hidden layers as well as the batch size, the accuracy will vary slightly each time the notebook is run. We also tested an ANN with a third hidden layer, which, however, did not improve the test accuracy for `MinMaxScaler` data."
   ]
  },
  {
   "cell_type": "markdown",
   "metadata": {},
   "source": [
    "## 3. Comparing Models "
   ]
  },
  {
   "cell_type": "markdown",
   "metadata": {},
   "source": [
    "In this section the resulting best models will be compared. Let's import needed libraries: "
   ]
  },
  {
   "cell_type": "code",
   "execution_count": 165,
   "metadata": {},
   "outputs": [],
   "source": [
    "from sklearn.metrics import roc_curve, auc\n",
    "from sklearn.preprocessing import label_binarize\n",
    "from sklearn.multiclass import OneVsRestClassifier"
   ]
  },
  {
   "cell_type": "markdown",
   "metadata": {},
   "source": [
    "As a first step, we create an array with the best models and their names: "
   ]
  },
  {
   "cell_type": "code",
   "execution_count": 163,
   "metadata": {},
   "outputs": [],
   "source": [
    "models = [knn_optimal, tree_best, rf_simple_best, ann_best]\n",
    "model_names = ['KNN', 'Decision Tree', 'Random Forest', 'ANN']"
   ]
  },
  {
   "cell_type": "markdown",
   "metadata": {},
   "source": [
    "### 3.1 Accuracy"
   ]
  },
  {
   "cell_type": "markdown",
   "metadata": {},
   "source": [
    "Each Accuracy of the models will be showed here:"
   ]
  },
  {
   "cell_type": "code",
   "execution_count": 169,
   "metadata": {},
   "outputs": [
    {
     "name": "stdout",
     "output_type": "stream",
     "text": [
      "Accuracy of KNN: 0.74\n",
      "Accuracy of Decision Tree: 0.525\n",
      "Accuracy of Random Forest: 0.76\n",
      "Accuracy of ANN: 0.77\n"
     ]
    }
   ],
   "source": [
    "for model, name in zip(models, model_names): \n",
    "    y_pred = model.predict(X_test_mms)\n",
    "    accuracy = accuracy_score(y_test_mms, y_pred)\n",
    "    print(f\"Accuracy of {name}: {accuracy}\")"
   ]
  },
  {
   "cell_type": "markdown",
   "metadata": {},
   "source": [
    "It can be seen that ANNs have the best accuracy, followed by RFs and KNN. Decision Trees performed poorly here."
   ]
  },
  {
   "cell_type": "markdown",
   "metadata": {},
   "source": [
    "### 3.2 F1-Score"
   ]
  },
  {
   "cell_type": "markdown",
   "metadata": {},
   "source": [
    "The F1-Score of all models will be calculated. \n",
    "The F1-Scores can be interpreted as follows: \n",
    "\n",
    "![image](https://images.prismic.io/encord/3b4efcda-c027-46d6-b4e1-02cad9ff5f48_image18.png?auto=compress,format)"
   ]
  },
  {
   "cell_type": "code",
   "execution_count": 170,
   "metadata": {},
   "outputs": [
    {
     "name": "stdout",
     "output_type": "stream",
     "text": [
      "F1 Score of KNN: 0.7430698080583664\n",
      "F1 Score of Decision Tree: 0.5275499368033028\n",
      "F1 Score of Random Forest: 0.7605592636233927\n",
      "F1 Score of ANN: 0.7723010925648475\n"
     ]
    }
   ],
   "source": [
    "# F1 score of each model\n",
    "for model, name in zip(models, model_names): \n",
    "    y_pred = model.predict(X_test_mms)\n",
    "    f1 = f1_score(y_test_mms, y_pred, average='weighted')\n",
    "    print(f\"F1 Score of {name}: {f1}\")"
   ]
  },
  {
   "cell_type": "markdown",
   "metadata": {},
   "source": [
    "So depending on the table in KNN, RF and ANN had a good result. The result of Decision Trees was OK."
   ]
  },
  {
   "cell_type": "markdown",
   "metadata": {},
   "source": [
    "### 3.3 ROC, AUC Curve"
   ]
  },
  {
   "cell_type": "markdown",
   "metadata": {},
   "source": [
    "A good comparison also can be made using the ROC-Curve of each model and the AUC. Due to the fact that ROC is designed for binary classifiers and our dataset contains 10 classes, we could create a ROC curve for each tuple of classes. But we decided to use a technique that averages the ROC-curves of all classes so that one ROC curve can be calculated for a multi-class classifier. "
   ]
  },
  {
   "cell_type": "code",
   "execution_count": 164,
   "metadata": {},
   "outputs": [
    {
     "data": {
      "image/png": "[encoded data removed]",
      "text/plain": [
       "<Figure size 1000x1000 with 1 Axes>"
      ]
     },
     "metadata": {},
     "output_type": "display_data"
    }
   ],
   "source": [
    "# We need to binarize the labels for the ROC curve\n",
    "y_test_bin = label_binarize(y_test_mms, classes=np.unique(y))\n",
    "y_train_bin = label_binarize(y_train_mms, classes=np.unique(y))\n",
    "n_classes = y_test_bin.shape[1]\n",
    "\n",
    "plt.figure(figsize=(10, 10))\n",
    "colors = ['red', 'blue', 'green', 'orange']\n",
    "linestyles = ['-', '--', '-.', ':']\n",
    "classifiers = models\n",
    "labels = model_names\n",
    "\n",
    "for clf, label, clr, ls in zip(classifiers, labels, colors, linestyles):\n",
    "    classifier = OneVsRestClassifier(clf, n_jobs=-1)\n",
    "    y_score = classifier.fit(X_train_mms, y_train_bin).predict_proba(X_test_mms)    \n",
    "    fpr, tpr, _ = roc_curve(y_test_bin.ravel(), y_score.ravel())\n",
    "    roc_auc = auc(fpr, tpr)\n",
    "    plt.plot(fpr, tpr, color=clr, linestyle=ls, label='%s (AUC = %0.2f)' % (label, roc_auc))\n",
    "\n",
    "\n",
    "plt.plot([0, 1], [0, 1], linestyle='--', color='gray', linewidth=2)\n",
    "\n",
    "plt.legend(loc='lower right')\n",
    "plt.xlim([-0.1, 1.1])\n",
    "plt.ylim([-0.1, 1.1])\n",
    "plt.grid()\n",
    "plt.xlabel('False Positive Rate')\n",
    "plt.ylabel('True Positive Rate')\n",
    "\n",
    "plt.tight_layout()\n",
    "plt.show()"
   ]
  },
  {
   "cell_type": "markdown",
   "metadata": {},
   "source": [
    "As can be seen from the ROC-graph, random forests and artificial neural networks have the best AUC. KNN is on third place and decision trees are last."
   ]
  },
  {
   "cell_type": "markdown",
   "metadata": {},
   "source": [
    "### 3.4 Comparison of models"
   ]
  },
  {
   "cell_type": "code",
   "execution_count": 154,
   "metadata": {},
   "outputs": [
    {
     "data": {
      "text/html": [
       "<style type=\"text/css\">\n",
       "</style>\n",
       "<table id=\"T_51d49\">\n",
       "  <thead>\n",
       "    <tr>\n",
       "      <th class=\"blank level0\" >&nbsp;</th>\n",
       "      <th id=\"T_51d49_level0_col0\" class=\"col_heading level0 col0\" >Model</th>\n",
       "      <th id=\"T_51d49_level0_col1\" class=\"col_heading level0 col1\" >Accuracy</th>\n",
       "      <th id=\"T_51d49_level0_col2\" class=\"col_heading level0 col2\" >F1 Score (weighted)</th>\n",
       "      <th id=\"T_51d49_level0_col3\" class=\"col_heading level0 col3\" >ROC AUC (micro)</th>\n",
       "    </tr>\n",
       "  </thead>\n",
       "  <tbody>\n",
       "    <tr>\n",
       "      <th id=\"T_51d49_level0_row0\" class=\"row_heading level0 row0\" >0</th>\n",
       "      <td id=\"T_51d49_row0_col0\" class=\"data row0 col0\" >KNN</td>\n",
       "      <td id=\"T_51d49_row0_col1\" class=\"data row0 col1\" >0.740</td>\n",
       "      <td id=\"T_51d49_row0_col2\" class=\"data row0 col2\" >0.743</td>\n",
       "      <td id=\"T_51d49_row0_col3\" class=\"data row0 col3\" >0.913</td>\n",
       "    </tr>\n",
       "    <tr>\n",
       "      <th id=\"T_51d49_level0_row1\" class=\"row_heading level0 row1\" >1</th>\n",
       "      <td id=\"T_51d49_row1_col0\" class=\"data row1 col0\" >Decision Tree</td>\n",
       "      <td id=\"T_51d49_row1_col1\" class=\"data row1 col1\" >0.525</td>\n",
       "      <td id=\"T_51d49_row1_col2\" class=\"data row1 col2\" >0.528</td>\n",
       "      <td id=\"T_51d49_row1_col3\" class=\"data row1 col3\" >0.747</td>\n",
       "    </tr>\n",
       "    <tr>\n",
       "      <th id=\"T_51d49_level0_row2\" class=\"row_heading level0 row2\" >2</th>\n",
       "      <td id=\"T_51d49_row2_col0\" class=\"data row2 col0\" >Random Forest</td>\n",
       "      <td id=\"T_51d49_row2_col1\" class=\"data row2 col1\" >0.760</td>\n",
       "      <td id=\"T_51d49_row2_col2\" class=\"data row2 col2\" >0.761</td>\n",
       "      <td id=\"T_51d49_row2_col3\" class=\"data row2 col3\" >0.958</td>\n",
       "    </tr>\n",
       "    <tr>\n",
       "      <th id=\"T_51d49_level0_row3\" class=\"row_heading level0 row3\" >3</th>\n",
       "      <td id=\"T_51d49_row3_col0\" class=\"data row3 col0\" >MLP</td>\n",
       "      <td id=\"T_51d49_row3_col1\" class=\"data row3 col1\" >0.770</td>\n",
       "      <td id=\"T_51d49_row3_col2\" class=\"data row3 col2\" >0.772</td>\n",
       "      <td id=\"T_51d49_row3_col3\" class=\"data row3 col3\" >0.956</td>\n",
       "    </tr>\n",
       "  </tbody>\n",
       "</table>\n"
      ],
      "text/plain": [
       "<pandas.io.formats.style.Styler at 0x326291cd0>"
      ]
     },
     "execution_count": 154,
     "metadata": {},
     "output_type": "execute_result"
    }
   ],
   "source": [
    "import pandas as pd\n",
    "from sklearn.metrics import accuracy_score, precision_score, recall_score, f1_score\n",
    "\n",
    "\n",
    "model_entries = []\n",
    "model_list = [\n",
    "    (\"KNN\", knn_optimal),\n",
    "    (\"Decision Tree\", tree_best),\n",
    "    (\"Random Forest\", rf_simple_best),\n",
    "    (\"MLP\", ann_best)\n",
    "]\n",
    "\n",
    "for model_name, model_obj in model_list:\n",
    "    y_pred = model_obj.predict(X_test_mms)\n",
    "    acc = accuracy_score(y_test_mms, y_pred)\n",
    "    f1 = f1_score(y_test_mms, y_pred, average='weighted')\n",
    "    classifier_ovr = OneVsRestClassifier(model_obj, n_jobs=-1)\n",
    "    y_score = classifier_ovr.fit(X_train_mms, y_train_bin).predict_proba(X_test_mms)\n",
    "    fpr, tpr, _ = roc_curve(y_test_bin.ravel(), y_score.ravel())\n",
    "    roc_auc_val = auc(fpr, tpr)\n",
    "    model_entries.append({\n",
    "        \"Model\": model_name,\n",
    "        \"Accuracy\": acc,\n",
    "        \"F1 Score (weighted)\": f1,\n",
    "        \"ROC AUC (micro)\": roc_auc_val\n",
    "    })\n",
    "\n",
    "comparison_df = pd.DataFrame(model_entries)\n",
    "comparison_df.style.format(precision=3)"
   ]
  },
  {
   "cell_type": "markdown",
   "metadata": {},
   "source": [
    "## 4. Summary and Conclusion"
   ]
  },
  {
   "cell_type": "markdown",
   "metadata": {},
   "source": [
    "\n",
    "### 4.1 Summary\n",
    "#### 4.1.1 Data Preparation and Scaling  \n",
    "    \n",
    "The dataset contains no null or infinity values. Also, all data is numerical, so no encoding is needed. Only the label was encoded, and the features were scaled using MinMaxScaler. \n",
    "\n",
    "#### 4.1.2 Model Training and Hyperparameter Tuning  \n",
    "Each Model was trained on the same training dataset. On all models, hyperparameters were tuned so that better results can be achieved. For each model a small summary can be found in the following:\n",
    "- Random Forest (RF)  \n",
    "    - Used GridSearchCV for hyperparameter tuning, experimenting with different numbers of estimators and other parameters. \n",
    "    - The best model (rf_simple_best) was selected based on cross-validation accuracy.  \n",
    "    - Feature importances were visualized to understand which input variables contributed most.\n",
    "    - Also compared results of heavy/soft-hyperparameter-tuning and seen that soft-hyperparameter tuning resulted to better accuracy than heavy-hyperparameter tuning.   \n",
    "\n",
    "- Decision Tree (DT)  \n",
    "    - Demonstrated two techniques: post-pruning (via cost-complexity parameter ccp_alpha) and pre-pruning (via restricting max_depth).  \n",
    "    - Used GridSearchCV to optimize parameters such as ccp_alpha, max_depth, and splitting criteria (e.g., “gini” vs. “entropy”).  \n",
    "    - Visualized the resulting decision tree and extracted a text representation of its rules.  \n",
    "\n",
    "- k-Nearest Neighbors (kNN)  \n",
    "    - Tuned k (number of neighbors), weights (uniform or distance), and distance metric (e.g., Euclidean, Manhattan).  \n",
    "    - After 10-fold cross validation, the best combination of hyperparameters was chosen, and predictions were made on the test set.  \n",
    "\n",
    "- Artificial Neural Network (ANN, MLPClassifier)  \n",
    "    - Used RandomizedSearchCV to explore hidden layer sizes, activation functions, batch size, and learning rate.  \n",
    "    - Final chosen ANN model reached around 77% test accuracy.  \n",
    "\n",
    "#### 4.1.3 Model Evaluation and Comparison  \n",
    "The four main classifiers (KNN, Decision Tree, Random Forest, ANN) were compared on the test set and metrics included accuracy, F1 score (weighted), and ROC-AUC (micro-averaged for multi-class) were compared. A summary table was produced showing the performance of each best model.  \n",
    "\n"
   ]
  },
  {
   "cell_type": "markdown",
   "metadata": {},
   "source": [
    "### 4.2 Conclusion  \n",
    "Each of the four classifiers (KNN, Decision Tree, Random Forest, ANN) offered different trade-offs. There could be seen that decision trees seem to perform very poorly on this task, even with pruning the trees. Random Forest and ANN showed strong performance (accuracy around 77%), with kNN close behind. So for music classification, Random Forests, Artificial Neural Networks and K-Nearest-Neighbors can be used, but nearly $\\frac{1}{4}$ of the predictions theoretically would be false. "
   ]
  },
  {
   "cell_type": "markdown",
   "metadata": {},
   "source": [
    "## 5. References "
   ]
  },
  {
   "cell_type": "markdown",
   "metadata": {},
   "source": [
    "- Machine Learning Lectures and Notebooks\n",
    "- https://scikit-learn.org/1.5/modules/generated/sklearn.ensemble.RandomForestClassifier.html\n",
    "- https://scikit-learn.org/1.5/modules/generated/sklearn.neural_network.MLPClassifier.html#sklearn.neural_network.MLPClassifier\n",
    "- https://scikit-learn.org/1.5/modules/generated/sklearn.neighbors.KNeighborsClassifier.html\n",
    "- https://scikit-learn.org/1.5/modules/generated/sklearn.model_selection.RandomizedSearchCV.html\n",
    "- https://scikit-learn.org/1.5/modules/generated/sklearn.model_selection.GridSearchCV.html\n",
    "- https://scikit-learn.org/1.5/modules/generated/sklearn.preprocessing.MinMaxScaler.html\n",
    "- https://machinelearningmastery.com/one-vs-rest-and-one-vs-one-for-multi-class-classification/\n",
    "- https://scikit-learn.org/dev/modules/generated/sklearn.tree.DecisionTreeClassifier.html\n",
    "- https://encord.com/blog/f1-score-in-machine-learning/#:~:text=Typically%2C%20an%20F1%20score%20%3E%200.9,to%20have%20a%20poor%20performance.\n",
    "- "
   ]
  },
  {
   "cell_type": "markdown",
   "metadata": {},
   "source": []
  }
 ],
 "metadata": {
  "kernelspec": {
   "display_name": "jupyter_devbox_python3_venv",
   "language": "python",
   "name": "jupyter_devbox"
  },
  "language_info": {
   "codemirror_mode": {
    "name": "ipython",
    "version": 3
   },
   "file_extension": ".py",
   "mimetype": "text/x-python",
   "name": "python",
   "nbconvert_exporter": "python",
   "pygments_lexer": "ipython3",
   "version": "3.11.2"
  }
 },
 "nbformat": 4,
 "nbformat_minor": 4
}
